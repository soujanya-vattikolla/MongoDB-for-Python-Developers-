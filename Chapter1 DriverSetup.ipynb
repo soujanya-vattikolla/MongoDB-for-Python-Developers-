{
  "nbformat": 4,
  "nbformat_minor": 0,
  "metadata": {
    "colab": {
      "name": "Chapter 1: Driver Setup.ipynb",
      "provenance": [],
      "collapsed_sections": [],
      "authorship_tag": "ABX9TyOg02A+AOrjtA7BAl9WUWDx",
      "include_colab_link": true
    },
    "kernelspec": {
      "name": "python3",
      "display_name": "Python 3"
    },
    "language_info": {
      "name": "python"
    }
  },
  "cells": [
    {
      "cell_type": "markdown",
      "metadata": {
        "id": "view-in-github",
        "colab_type": "text"
      },
      "source": [
        "<a href=\"https://colab.research.google.com/github/soujanya-vattikolla/MongoDB-for-Python-Developers-/blob/main/Chapter1%20DriverSetup.ipynb\" target=\"_parent\"><img src=\"https://colab.research.google.com/assets/colab-badge.svg\" alt=\"Open In Colab\"/></a>"
      ]
    },
    {
      "cell_type": "markdown",
      "source": [
        "**MFlix Application Architecture**"
      ],
      "metadata": {
        "id": "H-NeZxNwONKK"
      }
    },
    {
      "cell_type": "markdown",
      "source": [
        "Problem:<br>\n",
        "\n",
        "During this course, which of the following files in mflix will you have to edit?<br>\n",
        "\n",
        "The only file you have to edit is db.py. All other elements of the mflix application have been implemented and pre-bundled for you."
      ],
      "metadata": {
        "id": "4O2_Qc-nQhM5"
      }
    },
    {
      "cell_type": "markdown",
      "source": [
        "**MongoClient**"
      ],
      "metadata": {
        "id": "YszAXUDEQoex"
      }
    },
    {
      "cell_type": "markdown",
      "source": [
        "**Problem:**<br>\n",
        "\n",
        "What do the methods find() and find_one() have in common?<br>\n",
        "\n",
        "* They are used to query documents in a collection.\n",
        "* They accept a query predicate.\n",
        "* They accept a field projection."
      ],
      "metadata": {
        "id": "LUj7mtuWQvaY"
      }
    },
    {
      "cell_type": "markdown",
      "source": [
        "**Problem:**<br>\n",
        "\n",
        "User Story <br>\n",
        "\n",
        "\"As a user, I'd like to be able to search movies by country and see a list of movie titles. I should be able to specify a comma-separated list of countries to search multiple countries.\" <br>\n",
        "\n",
        "Task <br>\n",
        "\n",
        "Implement the get_movies_by_country method in db.py to search movies by country and use projection to return the title and _id field. The _id field will be returned by default. <br>\n",
        "\n"
      ],
      "metadata": {
        "id": "IMerEFeObXcb"
      }
    },
    {
      "cell_type": "code",
      "source": [
        "def get_movies_by_country(countries):\n",
        "    try:\n",
        "        # here's an example of the find() query\n",
        "        return list(db.movies.find(\n",
        "            {\"countries\": {\"$in\": countries}},\n",
        "            {\"title\": 1}\n",
        "        ))\n",
        "    except Exception as e:\n",
        "        return e"
      ],
      "metadata": {
        "id": "kU-QdVYhhmWM"
      },
      "execution_count": null,
      "outputs": []
    },
    {
      "cell_type": "markdown",
      "source": [
        "**Problem:**<br>\n",
        "\n",
        "User Story<br>\n",
        "\n",
        "\"As a user, I'd like to be able to search movies by cast members, genre, or perform a text search of the plot summary, full plot, and title.\"<br>\n",
        "\n",
        "Task <br>\n",
        "\n",
        "For this ticket, you will need to modify the method build_query_sort_project in db.py to allow the following movie search criteria:<br>\n",
        "\n",
        "genres: finds movies that include any of the wanted genres.<br>\n",
        "Already, the build_query_sort_project method is able to return results for two different types of movie search criteria:<br>\n",
        "\n",
        "text: performs a text search in the movies collection<br>\n",
        "cast: finds movies that include any of the wanted cast<br>\n",
        "\n"
      ],
      "metadata": {
        "id": "L0OkSJYuiMDH"
      }
    },
    {
      "cell_type": "code",
      "source": [
        "def build_query_sort_project(filters):\n",
        "    query = {}\n",
        "    sort = [(\"tomatoes.viewer.numReviews\", DESCENDING)]\n",
        "    project = None\n",
        "    if filters:\n",
        "        if \"text\" in filters:\n",
        "            query = {\"$text\": {\"$search\": filters[\"text\"]}}\n",
        "            meta_score = {\"$meta\": \"textScore\"}\n",
        "            sort = [(\"score\", meta_score)]\n",
        "            project = {\"score\": meta_score}\n",
        "        elif \"cast\" in filters:\n",
        "            query = {\"cast\": {\"$in\": filters[\"cast\"]}}\n",
        "        elif \"genres\" in filters:\n",
        "\n",
        "            # here's an implementation of the \"genres\" query\n",
        "            query = {\"genres\": {\"$in\": filters[\"genres\"]}}\n",
        "            \n",
        "    return query, sort, project"
      ],
      "metadata": {
        "id": "vSFcia3zGlCk"
      },
      "execution_count": null,
      "outputs": []
    }
  ]
}