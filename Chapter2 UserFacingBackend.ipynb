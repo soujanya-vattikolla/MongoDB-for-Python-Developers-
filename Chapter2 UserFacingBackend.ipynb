{
  "nbformat": 4,
  "nbformat_minor": 0,
  "metadata": {
    "colab": {
      "name": "Chapter 2: UserFacing Backend.ipynb",
      "provenance": [],
      "collapsed_sections": [],
      "authorship_tag": "ABX9TyP2L0ZLFsi1Q9Omhj2jYx67",
      "include_colab_link": true
    },
    "kernelspec": {
      "name": "python3",
      "display_name": "Python 3"
    },
    "language_info": {
      "name": "python"
    }
  },
  "cells": [
    {
      "cell_type": "markdown",
      "metadata": {
        "id": "view-in-github",
        "colab_type": "text"
      },
      "source": [
        "<a href=\"https://colab.research.google.com/github/soujanya-vattikolla/MongoDB-for-Python-Developers-/blob/main/Chapter2%20UserFacingBackend.ipynb\" target=\"_parent\"><img src=\"https://colab.research.google.com/assets/colab-badge.svg\" alt=\"Open In Colab\"/></a>"
      ]
    },
    {
      "cell_type": "markdown",
      "source": [
        "**Cursor Methods and Aggregation Equivalents**"
      ],
      "metadata": {
        "id": "tr30EjSPIXHw"
      }
    },
    {
      "cell_type": "markdown",
      "source": [
        "* The find method is always going to return a cursor to us.\n",
        "* Limit method: we can limit the number of documents that return in the cursor using .limit method.\n",
        "\n",
        "* **Aggregation framework**\n",
        "* In this we use $limit.\n",
        "\n",
        "* **Sort** takes two parameters - the key that we're sorting on and the sorting order.\n",
        "\n",
        "* **Aggregation framework** \n",
        "\n",
        "* In sort method, a dictionary with the field we want to sort on and the sorting order.\n",
        "\n",
        "* **Skip**\n",
        "* A skip method allows us to skip documents in a collection. So only documents we did not skip will appear in the cursor."
      ],
      "metadata": {
        "id": "sprqII29MXw2"
      }
    },
    {
      "cell_type": "code",
      "source": [
        ".limit() == $limit\n",
        ".sort() == $sort \n",
        ".skip() == $skip"
      ],
      "metadata": {
        "id": "P7QsEiXVffK1"
      },
      "execution_count": null,
      "outputs": []
    },
    {
      "cell_type": "markdown",
      "source": [
        "Question:\n",
        "\n",
        "Which of the following aggregation stages have equivalent cursor methods?\n",
        "\n",
        "$sort\n",
        "\n",
        "Sorting can be accomplished with the .sort() cursor method.\n",
        "\n",
        "$skip\n",
        "\n",
        "Skipping can be accomplished with the .skip() cursor method.\n",
        "\n",
        "$limit\n",
        "\n",
        "Limiting can be accomplished with the .limit() cursor method."
      ],
      "metadata": {
        "id": "fQft6RSvgMCN"
      }
    },
    {
      "cell_type": "markdown",
      "source": [
        "**Problem**:<br>\n",
        "\n",
        "User Story <br>\n",
        "\n",
        "\"As a user, I'd like to get the next page of results for my query by scrolling down in the main window of the application.\" <br>\n",
        "\n",
        "Task <br>\n",
        "\n",
        "Modify the method get_movies in db.py to allow for paging. You can see how the page is parsed and sent in the api_search_movies method from movies.py.<br>"
      ],
      "metadata": {
        "id": "WVX9Nhj6gdaH"
      }
    },
    {
      "cell_type": "code",
      "source": [
        "def get_movies(filters, page, movies_per_page):\n",
        "    query, sort, project = build_query_sort_project(filters)\n",
        "    if project and sort:\n",
        "        cursor = db.movies.find(query, project).sort(sort)\n",
        "    elif project:\n",
        "        cursor = db.movies.find(query).sort(sort)\n",
        "    else:\n",
        "        cursor = db.movies.find(query)\n",
        "\n",
        "    total_num_movies = cursor.count()\n",
        "\n",
        "    # here's an implementation of paging using skip() and limit()\n",
        "    movies = cursor.skip(movies_per_page * page).limit(movies_per_page)\n",
        "\n",
        "    return (list(movies), total_num_movies)"
      ],
      "metadata": {
        "id": "L7dZ7vI9gpLC"
      },
      "execution_count": null,
      "outputs": []
    },
    {
      "cell_type": "markdown",
      "source": [
        "**Basic Aggregation**"
      ],
      "metadata": {
        "id": "OpvLuFMqmsjv"
      }
    },
    {
      "cell_type": "markdown",
      "source": [
        "* Aggregation is a pipeline\n",
        "    *  Pipelines are composed of stages, broad units of work.\n",
        "    *  Within stages, expressions are used to specify individual units of work.\n",
        "* Expressions are functions."
      ],
      "metadata": {
        "id": "FpOiB-UumtkO"
      }
    },
    {
      "cell_type": "code",
      "source": [
        "# Aggregation\n",
        "\n",
        "{ \"$add\": [\"$a\", \"$b\"]  }"
      ],
      "metadata": {
        "id": "Ecb-4Hp9rkfU"
      },
      "execution_count": null,
      "outputs": []
    },
    {
      "cell_type": "markdown",
      "source": [
        "**Problem:**<br>\n",
        "\n",
        "User Story<br>\n",
        "\n",
        "\"As a user, I want to be able to filter cast search results by one facet, metacritic rating.\"<br>\n",
        "\n",
        "Task <br>\n",
        "\n",
        "For this Ticket, you'll be required to implement one method in db.py, get_movies_faceted, so the MFlix application can perform faceted searches.\n",
        "\n"
      ],
      "metadata": {
        "id": "fvCIoz6FqyZZ"
      }
    },
    {
      "cell_type": "code",
      "source": [
        "def get_movies_faceted(filters, page, movies_per_page):\n",
        "    sort_key = \"tomatoes.viewer.numReviews\"\n",
        "\n",
        "    pipeline = []\n",
        "\n",
        "    if \"cast\" in filters:\n",
        "        pipeline.extend([{\n",
        "            \"$match\": {\"cast\": {\"$in\": filters.get(\"cast\")}}\n",
        "        }, {\n",
        "            \"$sort\": {sort_key: DESCENDING}\n",
        "        }])\n",
        "    else:\n",
        "        raise AssertionError(\"No filters to pass to faceted search!\")\n",
        "\n",
        "    counting = pipeline[:]\n",
        "    count_stage = { \"$count\": \"count\" }\n",
        "    counting.append(count_stage)\n",
        "\n",
        "    skip_stage = { \"$skip\": movies_per_page * page }\n",
        "    limit_stage =  { \"$limit\": movies_per_page }\n",
        "    facet_stage = {\n",
        "        \"$facet\": {\n",
        "            \"runtime\": [{\n",
        "                \"$bucket\": {\n",
        "                    \"groupBy\": \"$runtime\",\n",
        "                    \"boundaries\": [0, 60, 90, 120, 180],\n",
        "                    \"default\": \"other\",\n",
        "                    \"output\": {\n",
        "                        \"count\": {\"$sum\": 1}\n",
        "                    }\n",
        "                }\n",
        "            }],\n",
        "            \"rating\": [{\n",
        "                \"$bucket\": {\n",
        "                    \"groupBy\": \"$metacritic\",\n",
        "                    \"boundaries\": [0, 50, 70, 90, 100],\n",
        "                    \"default\": \"other\",\n",
        "                    \"output\": {\n",
        "                        \"count\": {\"$sum\": 1}\n",
        "                    }\n",
        "                }\n",
        "            }],\n",
        "            \"movies\": [{\n",
        "                \"$addFields\": {\n",
        "                    \"title\": \"$title\"\n",
        "                }\n",
        "            }]\n",
        "        }\n",
        "    }\n",
        "\n",
        "\n",
        "    # here's where the stages are appended to the pipeline object\n",
        "    pipeline.extend([skip_stage, limit_stage, facet_stage])\n",
        "\n",
        "\n",
        "    try:\n",
        "        movies = list(db.movies.aggregate(pipeline, allowDiskUse=True))[0]\n",
        "        count = list(db.movies.aggregate(counting, allowDiskUse=True))[\n",
        "            0].get(\"count\")\n",
        "        return (movies, count)\n",
        "    except OperationFailure:\n",
        "        raise OperationFailure(\n",
        "            \"Results too large to sort, be more restrictive in filter\")"
      ],
      "metadata": {
        "id": "DaERI0ZAv9Nf"
      },
      "execution_count": null,
      "outputs": []
    },
    {
      "cell_type": "markdown",
      "source": [
        "**Upserts vs. Updates**<br>\n",
        "\n",
        "Sometimes, we want to update a document, but we're not sure if it exists in the collection.<br>\n",
        "\n",
        "We can use an \"upsert\" to update a document if it exists, and insert it if it does not exist.<br>\n",
        "\n",
        "In the following example, we're not sure if this video game exists in our collection, but we want to make sure there is a document in the collection that contains the correct data.<br>\n",
        "\n",
        "This operation may do one of two things:<br>\n",
        "\n",
        "If the predicate matches a document, update the document to contain the correct data.<br>\n",
        "\n",
        "If the document doesn't exist, create the desired document."
      ],
      "metadata": {
        "id": "F93uqgOREsxq"
      }
    },
    {
      "cell_type": "markdown",
      "source": [
        "**Problem:**<br>\n",
        "\n",
        "Which of the following is true about InsertOneResult?<br>\n",
        "\n",
        "* It contains the ``_id`` of an inserted document.\n",
        "\n",
        "    * This can be accessed with the inserted_id property.\n",
        "\n",
        "* It can tell us whether the operation was acknowledged by the server.\n",
        "\n",
        "    * This can be accessed with the acknowledged property."
      ],
      "metadata": {
        "id": "NQMxi7ikFdTi"
      }
    },
    {
      "cell_type": "markdown",
      "source": [
        "**Problem:**<br>\n",
        "\n",
        "User Story<br>\n",
        "\n",
        "\"As a user, I should be able to register for an account, log in, and logout.\"<br>\n",
        "\n",
        "Task<br>\n",
        "\n",
        "For this Ticket, you'll be required to implement all the methods in db.py that are called by the API endpoints in user.py. Specifically, you'll implement:<br>\n",
        "\n",
        "* get_user\n",
        "* add_user\n",
        "* login_user\n",
        "* logout_user\n",
        "* get_user_session\n",
        "* delete_user <br>\n",
        "For this ticket, you will need to use the find_one(), update_one() and delete_one() methods."
      ],
      "metadata": {
        "id": "63TJjrsGF3J6"
      }
    },
    {
      "cell_type": "code",
      "source": [
        "def get_user(email):\n",
        "    return db.users.find_one({\"email\": email})\n",
        "\n",
        "def add_user(name, email, hashedpw):\n",
        "    try:\n",
        "        db.users.insert_one(\n",
        "          {\"name\": name, \"email\": email, \"password\": hashedpw}\n",
        "        )\n",
        "        return {\"success\": True}\n",
        "    except DuplicateKeyError:\n",
        "        return {\"error\": \"A user with the given email already exists.\"}\n",
        "\n",
        "def login_user(email, jwt):\n",
        "    try:\n",
        "        db.sessions.update_one(\n",
        "            {\"user_id\": email}, {\"$set\": {\"jwt\": jwt}}, upsert=True)\n",
        "        return {\"success\": True}\n",
        "    except Exception as e:\n",
        "        return {\"error\": e}\n",
        "\n",
        "def logout_user(email):\n",
        "    try:\n",
        "        db.sessions.delete_one({\"user_id\": email})\n",
        "        return {\"success\": True}\n",
        "    except Exception as e:\n",
        "        return {\"error\": e}\n",
        "\n",
        "def get_user_session(email):\n",
        "    try:\n",
        "        return db.sessions.find_one({\"user_id\": email})\n",
        "    except Exception as e:\n",
        "        return {\"error\": e}\n",
        "\n",
        "def delete_user(email):\n",
        "    try:\n",
        "        db.users.delete_one({\"email\": email})\n",
        "        db.sessions.delete_one({\"user_id\": email})\n",
        "        if get_user(email) is None:\n",
        "            return {\"success\": True}\n",
        "        else:\n",
        "            raise ValueError(\"Deletion unsuccessful\")\n",
        "    except Exception as e:\n",
        "        return {\"error\": e}"
      ],
      "metadata": {
        "id": "dKRR38o_Fy5c"
      },
      "execution_count": null,
      "outputs": []
    },
    {
      "cell_type": "markdown",
      "source": [
        "**Write Concerns**"
      ],
      "metadata": {
        "id": "gltd3BYehyPG"
      }
    },
    {
      "cell_type": "markdown",
      "source": [
        "**writeConcern:{w:1}**<br>\n",
        "* Only requests an acknowledgement that one node applied the write.\n",
        "* This is the default writeConcern in MongoDB"
      ],
      "metadata": {
        "id": "deC50U85hzMr"
      }
    },
    {
      "cell_type": "markdown",
      "source": [
        "* **w: majorit**y ensures that writes are committed by a majority of nodes.\n",
        "    * Slower, but very durable\n",
        "\n",
        "* **w: 0** does not ensure that a write was committed by any nodes.\n",
        "    * Very fast, but less durable"
      ],
      "metadata": {
        "id": "RY4h0Ny3lMZ5"
      }
    },
    {
      "cell_type": "markdown",
      "source": [
        "**Problem:**<br>\n",
        "\n",
        "Which of the following Write Concerns are valid in a 3-node replica set?<br>\n",
        "\n",
        "* w: 0\n",
        "\n",
        "    * This will not ask for an acknowledgement from any of the nodes in the set.\n",
        "\n",
        "* w: 1\n",
        "\n",
        "    * This will only ask for an acknowledgement from one of the nodes in the set.\n",
        "\n",
        "* w: majority\n",
        "\n",
        "    * This will ask for an acknowledgement from a majority of nodes in the set."
      ],
      "metadata": {
        "id": "Idty_O9PoBt_"
      }
    },
    {
      "cell_type": "markdown",
      "source": [
        "**Problem:**<br>\n",
        "\n",
        "Task <br>\n",
        "\n",
        "For this ticket, you'll be required to increase the durability of the add_user method from the default write concern of w: 1. <br>\n",
        "\n",
        "When a new user registers for MFlix, their information must be added to the database before they can do anything else on the site. For this reason, we want to make sure that the data written by the add_user method will not be rolled back. <br>\n",
        "\n",
        "We can completely eliminate the chances of a rollback by increasing the write durability of the add_user method. To use a non-default write concern with a database operation, use Pymongo's with_options flag when issuing the query."
      ],
      "metadata": {
        "id": "gjdylZRKoevp"
      }
    },
    {
      "cell_type": "code",
      "source": [
        "def add_user(name, email, hashedpw):\n",
        "    try:\n",
        "        # this is where a write_concern keyword argument is provided\n",
        "        db.users.with_options(write_concern=WriteConcern(w=\"majority\")) \\\n",
        "            .insert_one(\n",
        "                {\"name\": name, \"email\": email, \"password\": hashedpw}\n",
        "        )\n",
        "        return {\"success\": True}\n",
        "    except DuplicateKeyError:\n",
        "        return {\"error\": \"A user with the given email already exists.\"}"
      ],
      "metadata": {
        "id": "xq5M6zfh35Bi"
      },
      "execution_count": null,
      "outputs": []
    },
    {
      "cell_type": "markdown",
      "source": [
        "* Which of the following write concerns are more durable than the default?<br>\n",
        "\n",
        "    * w: 2, w: \"majority\"\n",
        "\n",
        "    * In a 3-node replica set, these two write concerns will both wait until 2 nodes have applied a write. This is because 2 out of 3 nodes is a majority, and waiting for 2 nodes to apply a write is more durable than only waiting for 1 node to apply it."
      ],
      "metadata": {
        "id": "4Cg2ghm932qj"
      }
    },
    {
      "cell_type": "markdown",
      "source": [
        "**Basic Updates**"
      ],
      "metadata": {
        "id": "8FdGeqNo42OM"
      }
    },
    {
      "cell_type": "markdown",
      "source": [
        "**update operations**<br>\n",
        "\n",
        "  * update_one\n",
        "  * update_many\n",
        "\n",
        "* Update operations return an UpdateResult\n",
        "  * acknowledged, matched_count, modified_count, and upserted_id.\n",
        "  * In the case of an upsert, modified_count and matched_count will be 0."
      ],
      "metadata": {
        "id": "Y2nzr2PH43Zp"
      }
    },
    {
      "cell_type": "markdown",
      "source": [
        "Which of the following are valid update operators in Pymongo?<br>\n",
        "\n",
        "* $set\n",
        "\n",
        "    * This will replace the value of a field with the specified value.\n",
        "\n",
        "* $push\n",
        "\n",
        "    * This will append a specified value to the end of an array field.\n",
        "\n",
        "* $inc\n",
        "\n",
        "    * This will increment a field by a specified amount."
      ],
      "metadata": {
        "id": "aZLu2kNR7a1d"
      }
    },
    {
      "cell_type": "markdown",
      "source": [
        "**Ticket: User Preferences**<br>\n",
        "**Problem:**<br>\n",
        "\n",
        "User Story<br>\n",
        "\n",
        "\"As a user, I want to be able to store preferences such as my favorite cast member and preferred language.\"<br>\n",
        "\n",
        "Task<br>\n",
        "\n",
        "For this Ticket, you'll be required to implement one method in db.py, update_prefs. This method allows updates to be made to the \"preferences\" field in the users collection."
      ],
      "metadata": {
        "id": "B3szQmIf74Fx"
      }
    },
    {
      "cell_type": "code",
      "source": [
        "def update_prefs(email, prefs):\n",
        "    '''\n",
        "    Updates user preferences\n",
        "    '''\n",
        "    prefs = {} if prefs is None else prefs\n",
        "    try:\n",
        "        response = db.users.update_one(\n",
        "            {\"email\": email},\n",
        "            {\"$set\": {\"preferences\": prefs}}\n",
        "        )\n",
        "        if response.matched_count == 0:\n",
        "            return {'error': 'no user found'}\n",
        "        else:\n",
        "            return response\n",
        "    except Exception as e:\n",
        "        return {'error': str(e)}"
      ],
      "metadata": {
        "id": "J-Oq5qmc9NDc"
      },
      "execution_count": null,
      "outputs": []
    },
    {
      "cell_type": "markdown",
      "source": [
        "**Basic Joins**"
      ],
      "metadata": {
        "id": "14tjDF_E8IsA"
      }
    },
    {
      "cell_type": "markdown",
      "source": [
        "* Join two collections of data.\n",
        "* Use new expressive $ lookup"
      ],
      "metadata": {
        "id": "7Ar1nKn4_-U5"
      }
    },
    {
      "cell_type": "markdown",
      "source": [
        "**Problem:**<br>\n",
        "\n",
        "Why did we use a let expression with expressive $lookup, when joining the comments and the movies collection?\n",
        "\n",
        "* To use fields from the movies collection in the pipeline .\n",
        "\n",
        "    * The only way we can use fields from the movies collection in the pipeline is by defining those variables in the let expression."
      ],
      "metadata": {
        "id": "n5_eJ_R1BcZC"
      }
    },
    {
      "cell_type": "markdown",
      "source": [
        "**Ticket: Get Comments**<br>\n",
        "**Problem:**<br>\n",
        "\n",
        "User Story<br>\n",
        "\n",
        "\"As a user, I want to be able to view comments for a movie when I look at the movie detail page.\"<br>\n",
        "\n",
        "Task<br>\n",
        "\n",
        "For this ticket, you'll be required to extend the get_movie method in db.py so that it also fetches the comments for a given movie.<br>\n",
        "\n",
        "The comments should be returned in order from most recent to least recent using the date key.<br>\n",
        "\n",
        "Movie comments are stored in the comments collection, so this task can be accomplished by performing a $lookup.<br>"
      ],
      "metadata": {
        "id": "0c25q8tqBuKC"
      }
    },
    {
      "cell_type": "code",
      "source": [
        "def get_movie(id):\n",
        "    try:\n",
        "        # here's the pipeline used to join comments\n",
        "        pipeline = [\n",
        "            {\n",
        "                # find the current movie in the \"movies\" collection\n",
        "                \"$match\": {\n",
        "                    \"_id\": ObjectId(id)\n",
        "                }\n",
        "            },\n",
        "            {\n",
        "                \"$lookup\": {\n",
        "                    \"from\": \"comments\",\n",
        "                    \"let\": { \"id\": \"$_id\" },\n",
        "                    \"pipeline\": [\n",
        "                        # only join comments with matching movie_id\n",
        "                        {\n",
        "                            \"$match\": {\n",
        "                                \"$expr\": {\"$eq\": [\"$movie_id\", \"$$id\"]}}\n",
        "                        },\n",
        "                        # sort comments in descending order by date\n",
        "                        {\n",
        "                            \"$sort\": {\"date\": -1}\n",
        "                        }\n",
        "                    ],\n",
        "                    # call embedded field comments\n",
        "                    \"as\": \"comments\"\n",
        "                }\n",
        "            }\n",
        "        ]\n",
        "        return db.movies.aggregate(pipeline).next()\n",
        "    except (StopIteration) as _:\n",
        "        return None"
      ],
      "metadata": {
        "id": "IJaNvdUhC1Ut"
      },
      "execution_count": null,
      "outputs": []
    },
    {
      "cell_type": "markdown",
      "source": [
        "**Ticket: Create/Update Comments**<br>\n",
        "Problem:<br>\n",
        "\n",
        "User Story<br>\n",
        "\n",
        "\"As a user, I want to be able to post comments to a movie page as well as edit my own comments.\"<br>\n",
        "\n",
        "Task<br>\n",
        "\n",
        "For this ticket, you'll be required to implement two methods in db.py, add_comment and update_comment.<br>\n",
        "\n",
        "Ensure that update_comment only allows users to update their own comments, and no one else's comments."
      ],
      "metadata": {
        "id": "CzzIgU12G3BM"
      }
    },
    {
      "cell_type": "code",
      "source": [
        "def add_comment(movie_id, user, comment, date):\n",
        "    comment_doc = {\n",
        "        \"name\": user.name,\n",
        "        \"email\": user.email,\n",
        "        \"movie_id\": ObjectId(movie_id),\n",
        "        \"text\": comment,\n",
        "        \"date\": date\n",
        "    }\n",
        "    return db.comments.insert_one(comment_doc)\n",
        "\n",
        "def update_comment(comment_id, user_email, text, date):\n",
        "    response = db.comments.update_one(\n",
        "        # we used the comment_id and user_email to verify that the user has\n",
        "        # permission to edit this comment\n",
        "        {\"_id\": ObjectId(comment_id), \"email\": user_email},\n",
        "        {\"$set\": {\"text\": text, \"date\": date}}\n",
        "    )\n",
        "    return response"
      ],
      "metadata": {
        "id": "s0AXxx6OG84C"
      },
      "execution_count": null,
      "outputs": []
    },
    {
      "cell_type": "markdown",
      "source": [
        "**Basic Deletes**"
      ],
      "metadata": {
        "id": "Agw211kYmU-u"
      }
    },
    {
      "cell_type": "markdown",
      "source": [
        "* **delete_one** will delete the first document that matches the supplied predicate\n",
        "* **delete_many** will delete all documents matching the supplied predicate\n",
        "* The number of documents deleted can be accessed via the **deleted_count** property on the DeleteResult object returned from a delete operation."
      ],
      "metadata": {
        "id": "cF7cULnLnURl"
      }
    },
    {
      "cell_type": "code",
      "source": [
        "Problem:\n",
        "\n",
        "Which of the following is true about deleting documents in Pymongo?\n",
        "\n",
        "* DeleteResult objects contain the number of deleted documents.\n",
        "\n",
        "    * We can access this with the .acknowledged property of the DeleteResult object.\n",
        "\n",
        "* delete_many() can delete any number of documents.\n",
        "\n",
        "    * That's why it's called delete many, and not, say, delete just a couple of 'em.\n",
        "\n",
        "* delete_one() can only delete one document.\n",
        "\n",
        "    * This method can be helpful when our operation only intends to delete one document."
      ],
      "metadata": {
        "id": "jGKHg9gqmWbD"
      },
      "execution_count": null,
      "outputs": []
    },
    {
      "cell_type": "markdown",
      "source": [
        "**Ticket: Delete Comments**<br>\n",
        "Problem:<br>\n",
        "\n",
        "User Story<br>\n",
        "\n",
        "\"As a user, I want to be able to delete my own comments.\"<br>\n",
        "\n",
        "Task<br>\n",
        "\n",
        "For this ticket, you'll be required to modify one method in db.py, delete_comment. Ensure the delete operation is limited so only the user can delete their own comments, but not anyone else's comments."
      ],
      "metadata": {
        "id": "UebFPe8uo74c"
      }
    },
    {
      "cell_type": "code",
      "source": [
        "def delete_comment(comment_id, user_email):\n",
        "    response = db.comments.delete_one(\n",
        "        {\"_id\": ObjectId(comment_id), \"email\": user_email}\n",
        "    )\n",
        "    return response"
      ],
      "metadata": {
        "id": "aP3FwtHmpCb7"
      },
      "execution_count": null,
      "outputs": []
    }
  ]
}